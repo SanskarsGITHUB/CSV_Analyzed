{
 "cells": [
  {
   "cell_type": "code",
   "execution_count": 21,
   "metadata": {},
   "outputs": [],
   "source": [
    "import pandas as pd\n",
    "import matplotlib.pyplot as plt\n",
    "import seaborn as sns\n"
   ]
  },
  {
   "cell_type": "code",
   "execution_count": 37,
   "metadata": {},
   "outputs": [
    {
     "data": {
      "text/html": [
       "<div>\n",
       "<style scoped>\n",
       "    .dataframe tbody tr th:only-of-type {\n",
       "        vertical-align: middle;\n",
       "    }\n",
       "\n",
       "    .dataframe tbody tr th {\n",
       "        vertical-align: top;\n",
       "    }\n",
       "\n",
       "    .dataframe thead th {\n",
       "        text-align: right;\n",
       "    }\n",
       "</style>\n",
       "<table border=\"1\" class=\"dataframe\">\n",
       "  <thead>\n",
       "    <tr style=\"text-align: right;\">\n",
       "      <th></th>\n",
       "      <th>hotstar_id</th>\n",
       "      <th>title</th>\n",
       "      <th>description</th>\n",
       "      <th>genre</th>\n",
       "      <th>year</th>\n",
       "      <th>age_rating</th>\n",
       "      <th>running_time</th>\n",
       "      <th>seasons</th>\n",
       "      <th>episodes</th>\n",
       "      <th>type</th>\n",
       "    </tr>\n",
       "  </thead>\n",
       "  <tbody>\n",
       "    <tr>\n",
       "      <th>0</th>\n",
       "      <td>1000231066</td>\n",
       "      <td>Rekka</td>\n",
       "      <td>Known for helping girls in getting out of unwa...</td>\n",
       "      <td>Action</td>\n",
       "      <td>2016</td>\n",
       "      <td>U/A 13+</td>\n",
       "      <td>114.0</td>\n",
       "      <td>NaN</td>\n",
       "      <td>NaN</td>\n",
       "      <td>movie</td>\n",
       "    </tr>\n",
       "    <tr>\n",
       "      <th>1</th>\n",
       "      <td>1260059119</td>\n",
       "      <td>Hamara Bar Happy Hour</td>\n",
       "      <td>Failed actors and friends Pari, Gulshan, Shiva...</td>\n",
       "      <td>Comedy</td>\n",
       "      <td>2021</td>\n",
       "      <td>U/A 16+</td>\n",
       "      <td>NaN</td>\n",
       "      <td>1.0</td>\n",
       "      <td>8.0</td>\n",
       "      <td>tv</td>\n",
       "    </tr>\n",
       "    <tr>\n",
       "      <th>2</th>\n",
       "      <td>1000098151</td>\n",
       "      <td>Shodha</td>\n",
       "      <td>As part of a study tour, a group of college st...</td>\n",
       "      <td>Drama</td>\n",
       "      <td>2009</td>\n",
       "      <td>U/A 13+</td>\n",
       "      <td>113.0</td>\n",
       "      <td>NaN</td>\n",
       "      <td>NaN</td>\n",
       "      <td>movie</td>\n",
       "    </tr>\n",
       "    <tr>\n",
       "      <th>3</th>\n",
       "      <td>1770000953</td>\n",
       "      <td>Aliens</td>\n",
       "      <td>After surviving an apocalyptic attack aboard h...</td>\n",
       "      <td>Action</td>\n",
       "      <td>1986</td>\n",
       "      <td>A</td>\n",
       "      <td>137.0</td>\n",
       "      <td>NaN</td>\n",
       "      <td>NaN</td>\n",
       "      <td>movie</td>\n",
       "    </tr>\n",
       "    <tr>\n",
       "      <th>4</th>\n",
       "      <td>1000108836</td>\n",
       "      <td>Arakkallan Mukkalkkallan</td>\n",
       "      <td>Naagan and Aruvikkara Thampy are sworn enemies...</td>\n",
       "      <td>Thriller</td>\n",
       "      <td>1974</td>\n",
       "      <td>U</td>\n",
       "      <td>152.0</td>\n",
       "      <td>NaN</td>\n",
       "      <td>NaN</td>\n",
       "      <td>movie</td>\n",
       "    </tr>\n",
       "    <tr>\n",
       "      <th>...</th>\n",
       "      <td>...</td>\n",
       "      <td>...</td>\n",
       "      <td>...</td>\n",
       "      <td>...</td>\n",
       "      <td>...</td>\n",
       "      <td>...</td>\n",
       "      <td>...</td>\n",
       "      <td>...</td>\n",
       "      <td>...</td>\n",
       "      <td>...</td>\n",
       "    </tr>\n",
       "    <tr>\n",
       "      <th>6240</th>\n",
       "      <td>1260006653</td>\n",
       "      <td>Alaska's Grizzly Gauntlet</td>\n",
       "      <td>Survival expert Les Stroud explores the formid...</td>\n",
       "      <td>Animals &amp; Nature</td>\n",
       "      <td>2019</td>\n",
       "      <td>U/A 7+</td>\n",
       "      <td>NaN</td>\n",
       "      <td>1.0</td>\n",
       "      <td>4.0</td>\n",
       "      <td>tv</td>\n",
       "    </tr>\n",
       "    <tr>\n",
       "      <th>6241</th>\n",
       "      <td>1260047835</td>\n",
       "      <td>Sarasu</td>\n",
       "      <td>Saraswathi, aka Sarasu, is a bright student wh...</td>\n",
       "      <td>Drama</td>\n",
       "      <td>2020</td>\n",
       "      <td>U/A 13+</td>\n",
       "      <td>NaN</td>\n",
       "      <td>1.0</td>\n",
       "      <td>208.0</td>\n",
       "      <td>tv</td>\n",
       "    </tr>\n",
       "    <tr>\n",
       "      <th>6242</th>\n",
       "      <td>1770021374</td>\n",
       "      <td>Ice On Fire</td>\n",
       "      <td>Ice on Fire is an eye-opening documentary that...</td>\n",
       "      <td>Documentary</td>\n",
       "      <td>2019</td>\n",
       "      <td>U/A 7+</td>\n",
       "      <td>97.0</td>\n",
       "      <td>NaN</td>\n",
       "      <td>NaN</td>\n",
       "      <td>movie</td>\n",
       "    </tr>\n",
       "    <tr>\n",
       "      <th>6243</th>\n",
       "      <td>1000101009</td>\n",
       "      <td>Iruvattam Manavatti</td>\n",
       "      <td>While on election duty in Kannur, a veterinary...</td>\n",
       "      <td>Romance</td>\n",
       "      <td>2005</td>\n",
       "      <td>U/A 13+</td>\n",
       "      <td>142.0</td>\n",
       "      <td>NaN</td>\n",
       "      <td>NaN</td>\n",
       "      <td>movie</td>\n",
       "    </tr>\n",
       "    <tr>\n",
       "      <th>6244</th>\n",
       "      <td>1610005613</td>\n",
       "      <td>3rd Wedding Anniversary</td>\n",
       "      <td>Everything seems to be hunky-dory in their mar...</td>\n",
       "      <td>Thriller</td>\n",
       "      <td>2018</td>\n",
       "      <td>U/A 16+</td>\n",
       "      <td>16.0</td>\n",
       "      <td>NaN</td>\n",
       "      <td>NaN</td>\n",
       "      <td>movie</td>\n",
       "    </tr>\n",
       "  </tbody>\n",
       "</table>\n",
       "<p>6245 rows × 10 columns</p>\n",
       "</div>"
      ],
      "text/plain": [
       "      hotstar_id                      title  \\\n",
       "0     1000231066                      Rekka   \n",
       "1     1260059119      Hamara Bar Happy Hour   \n",
       "2     1000098151                     Shodha   \n",
       "3     1770000953                     Aliens   \n",
       "4     1000108836   Arakkallan Mukkalkkallan   \n",
       "...          ...                        ...   \n",
       "6240  1260006653  Alaska's Grizzly Gauntlet   \n",
       "6241  1260047835                     Sarasu   \n",
       "6242  1770021374                Ice On Fire   \n",
       "6243  1000101009        Iruvattam Manavatti   \n",
       "6244  1610005613    3rd Wedding Anniversary   \n",
       "\n",
       "                                            description             genre  \\\n",
       "0     Known for helping girls in getting out of unwa...            Action   \n",
       "1     Failed actors and friends Pari, Gulshan, Shiva...            Comedy   \n",
       "2     As part of a study tour, a group of college st...             Drama   \n",
       "3     After surviving an apocalyptic attack aboard h...            Action   \n",
       "4     Naagan and Aruvikkara Thampy are sworn enemies...          Thriller   \n",
       "...                                                 ...               ...   \n",
       "6240  Survival expert Les Stroud explores the formid...  Animals & Nature   \n",
       "6241  Saraswathi, aka Sarasu, is a bright student wh...             Drama   \n",
       "6242  Ice on Fire is an eye-opening documentary that...       Documentary   \n",
       "6243  While on election duty in Kannur, a veterinary...           Romance   \n",
       "6244  Everything seems to be hunky-dory in their mar...          Thriller   \n",
       "\n",
       "      year age_rating  running_time  seasons  episodes   type  \n",
       "0     2016    U/A 13+         114.0      NaN       NaN  movie  \n",
       "1     2021    U/A 16+           NaN      1.0       8.0     tv  \n",
       "2     2009    U/A 13+         113.0      NaN       NaN  movie  \n",
       "3     1986          A         137.0      NaN       NaN  movie  \n",
       "4     1974          U         152.0      NaN       NaN  movie  \n",
       "...    ...        ...           ...      ...       ...    ...  \n",
       "6240  2019     U/A 7+           NaN      1.0       4.0     tv  \n",
       "6241  2020    U/A 13+           NaN      1.0     208.0     tv  \n",
       "6242  2019     U/A 7+          97.0      NaN       NaN  movie  \n",
       "6243  2005    U/A 13+         142.0      NaN       NaN  movie  \n",
       "6244  2018    U/A 16+          16.0      NaN       NaN  movie  \n",
       "\n",
       "[6245 rows x 10 columns]"
      ]
     },
     "execution_count": 37,
     "metadata": {},
     "output_type": "execute_result"
    }
   ],
   "source": [
    "newdf=pd.read_csv('hotstar.csv')\n",
    "newdf"
   ]
  },
  {
   "cell_type": "markdown",
   "metadata": {},
   "source": [
    "## Genre count"
   ]
  },
  {
   "cell_type": "code",
   "execution_count": 23,
   "metadata": {},
   "outputs": [
    {
     "data": {
      "text/plain": [
       "Drama               1781\n",
       "Comedy               740\n",
       "Romance              601\n",
       "Action               579\n",
       "Reality              370\n",
       "Thriller             313\n",
       "Sport                259\n",
       "Family               244\n",
       "Animation            213\n",
       "Documentary          174\n",
       "Animals & Nature     119\n",
       "Horror                95\n",
       "Crime                 89\n",
       "Talk Show             79\n",
       "Mythology             75\n",
       "Superhero             61\n",
       "Standup Comedy        51\n",
       "Adventure             44\n",
       "Kids                  43\n",
       "Historical            41\n",
       "Biopic                41\n",
       "Science Fiction       38\n",
       "Science               34\n",
       "Teen                  30\n",
       "Lifestyle             26\n",
       "Awards                26\n",
       "Mystery               25\n",
       "Musical               15\n",
       "Concert Film          10\n",
       "Shorts                 7\n",
       "Travel                 7\n",
       "Food                   6\n",
       "Docudrama              6\n",
       "Fantasy                3\n",
       "Name: genre, dtype: int64"
      ]
     },
     "execution_count": 23,
     "metadata": {},
     "output_type": "execute_result"
    }
   ],
   "source": [
    "newdf['genre'].value_counts()        "
   ]
  },
  {
   "cell_type": "code",
   "execution_count": 24,
   "metadata": {},
   "outputs": [
    {
     "data": {
      "text/plain": [
       "Drama          1781\n",
       "Comedy          740\n",
       "Romance         601\n",
       "Action          579\n",
       "Reality         370\n",
       "Thriller        313\n",
       "Sport           259\n",
       "Family          244\n",
       "Animation       213\n",
       "Documentary     174\n",
       "Name: genre, dtype: int64"
      ]
     },
     "execution_count": 24,
     "metadata": {},
     "output_type": "execute_result"
    }
   ],
   "source": [
    "newdf['genre'].value_counts().nlargest(10)"
   ]
  },
  {
   "cell_type": "code",
   "execution_count": 25,
   "metadata": {},
   "outputs": [
    {
     "data": {
      "text/plain": [
       "Drama          1781\n",
       "Comedy          740\n",
       "Romance         601\n",
       "Action          579\n",
       "Reality         370\n",
       "Thriller        313\n",
       "Sport           259\n",
       "Family          244\n",
       "Animation       213\n",
       "Documentary     174\n",
       "Name: genre, dtype: int64"
      ]
     },
     "execution_count": 25,
     "metadata": {},
     "output_type": "execute_result"
    }
   ],
   "source": [
    "newdf['genre'].value_counts().nlargest(10)"
   ]
  },
  {
   "cell_type": "markdown",
   "metadata": {},
   "source": []
  },
  {
   "cell_type": "code",
   "execution_count": 26,
   "metadata": {},
   "outputs": [],
   "source": [
    "wedf=(newdf['type']=='tv') \n"
   ]
  },
  {
   "cell_type": "code",
   "execution_count": 27,
   "metadata": {},
   "outputs": [],
   "source": [
    "c=newdf[-wedf]\n"
   ]
  },
  {
   "cell_type": "code",
   "execution_count": 28,
   "metadata": {},
   "outputs": [
    {
     "name": "stdout",
     "output_type": "stream",
     "text": [
      "The biggest runtime for a movie is 1.0\n"
     ]
    }
   ],
   "source": [
    "print(\"The biggest runtime for a movie is\",(newdf['running_time'].min()))"
   ]
  },
  {
   "cell_type": "code",
   "execution_count": 29,
   "metadata": {},
   "outputs": [],
   "source": [
    "d=newdf['running_time']==199.0"
   ]
  },
  {
   "cell_type": "markdown",
   "metadata": {},
   "source": [
    "## highest run time of a movie"
   ]
  },
  {
   "cell_type": "code",
   "execution_count": 30,
   "metadata": {},
   "outputs": [
    {
     "data": {
      "text/html": [
       "<div>\n",
       "<style scoped>\n",
       "    .dataframe tbody tr th:only-of-type {\n",
       "        vertical-align: middle;\n",
       "    }\n",
       "\n",
       "    .dataframe tbody tr th {\n",
       "        vertical-align: top;\n",
       "    }\n",
       "\n",
       "    .dataframe thead th {\n",
       "        text-align: right;\n",
       "    }\n",
       "</style>\n",
       "<table border=\"1\" class=\"dataframe\">\n",
       "  <thead>\n",
       "    <tr style=\"text-align: right;\">\n",
       "      <th></th>\n",
       "      <th>hotstar_id</th>\n",
       "      <th>title</th>\n",
       "      <th>description</th>\n",
       "      <th>genre</th>\n",
       "      <th>year</th>\n",
       "      <th>age_rating</th>\n",
       "      <th>running_time</th>\n",
       "      <th>seasons</th>\n",
       "      <th>episodes</th>\n",
       "      <th>type</th>\n",
       "    </tr>\n",
       "  </thead>\n",
       "  <tbody>\n",
       "    <tr>\n",
       "      <th>2511</th>\n",
       "      <td>1000108860</td>\n",
       "      <td>Dubai</td>\n",
       "      <td>After being framed for murder, Major Ravi move...</td>\n",
       "      <td>Thriller</td>\n",
       "      <td>2001</td>\n",
       "      <td>U/A 16+</td>\n",
       "      <td>199.0</td>\n",
       "      <td>NaN</td>\n",
       "      <td>NaN</td>\n",
       "      <td>movie</td>\n",
       "    </tr>\n",
       "  </tbody>\n",
       "</table>\n",
       "</div>"
      ],
      "text/plain": [
       "      hotstar_id  title                                        description  \\\n",
       "2511  1000108860  Dubai  After being framed for murder, Major Ravi move...   \n",
       "\n",
       "         genre  year age_rating  running_time  seasons  episodes   type  \n",
       "2511  Thriller  2001    U/A 16+         199.0      NaN       NaN  movie  "
      ]
     },
     "execution_count": 30,
     "metadata": {},
     "output_type": "execute_result"
    }
   ],
   "source": [
    "newdf.loc[d]"
   ]
  },
  {
   "cell_type": "code",
   "execution_count": 31,
   "metadata": {},
   "outputs": [],
   "source": [
    "newdf = newdf.genre.value_counts(ascending=False)[:10]"
   ]
  },
  {
   "cell_type": "code",
   "execution_count": 32,
   "metadata": {},
   "outputs": [
    {
     "data": {
      "text/html": [
       "<div>\n",
       "<style scoped>\n",
       "    .dataframe tbody tr th:only-of-type {\n",
       "        vertical-align: middle;\n",
       "    }\n",
       "\n",
       "    .dataframe tbody tr th {\n",
       "        vertical-align: top;\n",
       "    }\n",
       "\n",
       "    .dataframe thead th {\n",
       "        text-align: right;\n",
       "    }\n",
       "</style>\n",
       "<table border=\"1\" class=\"dataframe\">\n",
       "  <thead>\n",
       "    <tr style=\"text-align: right;\">\n",
       "      <th></th>\n",
       "      <th>index</th>\n",
       "      <th>genre</th>\n",
       "    </tr>\n",
       "  </thead>\n",
       "  <tbody>\n",
       "    <tr>\n",
       "      <th>0</th>\n",
       "      <td>Drama</td>\n",
       "      <td>1781</td>\n",
       "    </tr>\n",
       "    <tr>\n",
       "      <th>1</th>\n",
       "      <td>Comedy</td>\n",
       "      <td>740</td>\n",
       "    </tr>\n",
       "    <tr>\n",
       "      <th>2</th>\n",
       "      <td>Romance</td>\n",
       "      <td>601</td>\n",
       "    </tr>\n",
       "    <tr>\n",
       "      <th>3</th>\n",
       "      <td>Action</td>\n",
       "      <td>579</td>\n",
       "    </tr>\n",
       "    <tr>\n",
       "      <th>4</th>\n",
       "      <td>Reality</td>\n",
       "      <td>370</td>\n",
       "    </tr>\n",
       "    <tr>\n",
       "      <th>5</th>\n",
       "      <td>Thriller</td>\n",
       "      <td>313</td>\n",
       "    </tr>\n",
       "    <tr>\n",
       "      <th>6</th>\n",
       "      <td>Sport</td>\n",
       "      <td>259</td>\n",
       "    </tr>\n",
       "    <tr>\n",
       "      <th>7</th>\n",
       "      <td>Family</td>\n",
       "      <td>244</td>\n",
       "    </tr>\n",
       "    <tr>\n",
       "      <th>8</th>\n",
       "      <td>Animation</td>\n",
       "      <td>213</td>\n",
       "    </tr>\n",
       "    <tr>\n",
       "      <th>9</th>\n",
       "      <td>Documentary</td>\n",
       "      <td>174</td>\n",
       "    </tr>\n",
       "  </tbody>\n",
       "</table>\n",
       "</div>"
      ],
      "text/plain": [
       "         index  genre\n",
       "0        Drama   1781\n",
       "1       Comedy    740\n",
       "2      Romance    601\n",
       "3       Action    579\n",
       "4      Reality    370\n",
       "5     Thriller    313\n",
       "6        Sport    259\n",
       "7       Family    244\n",
       "8    Animation    213\n",
       "9  Documentary    174"
      ]
     },
     "execution_count": 32,
     "metadata": {},
     "output_type": "execute_result"
    }
   ],
   "source": [
    "newdf = pd.DataFrame(newdf)\n",
    "newdf.reset_index(drop=False, inplace=True)\n",
    "newdf"
   ]
  },
  {
   "cell_type": "code",
   "execution_count": 33,
   "metadata": {},
   "outputs": [
    {
     "data": {
      "text/html": [
       "<div>\n",
       "<style scoped>\n",
       "    .dataframe tbody tr th:only-of-type {\n",
       "        vertical-align: middle;\n",
       "    }\n",
       "\n",
       "    .dataframe tbody tr th {\n",
       "        vertical-align: top;\n",
       "    }\n",
       "\n",
       "    .dataframe thead th {\n",
       "        text-align: right;\n",
       "    }\n",
       "</style>\n",
       "<table border=\"1\" class=\"dataframe\">\n",
       "  <thead>\n",
       "    <tr style=\"text-align: right;\">\n",
       "      <th></th>\n",
       "      <th>Genre</th>\n",
       "      <th>Count</th>\n",
       "    </tr>\n",
       "  </thead>\n",
       "  <tbody>\n",
       "    <tr>\n",
       "      <th>0</th>\n",
       "      <td>Drama</td>\n",
       "      <td>1781</td>\n",
       "    </tr>\n",
       "    <tr>\n",
       "      <th>1</th>\n",
       "      <td>Comedy</td>\n",
       "      <td>740</td>\n",
       "    </tr>\n",
       "    <tr>\n",
       "      <th>2</th>\n",
       "      <td>Romance</td>\n",
       "      <td>601</td>\n",
       "    </tr>\n",
       "    <tr>\n",
       "      <th>3</th>\n",
       "      <td>Action</td>\n",
       "      <td>579</td>\n",
       "    </tr>\n",
       "    <tr>\n",
       "      <th>4</th>\n",
       "      <td>Reality</td>\n",
       "      <td>370</td>\n",
       "    </tr>\n",
       "    <tr>\n",
       "      <th>5</th>\n",
       "      <td>Thriller</td>\n",
       "      <td>313</td>\n",
       "    </tr>\n",
       "    <tr>\n",
       "      <th>6</th>\n",
       "      <td>Sport</td>\n",
       "      <td>259</td>\n",
       "    </tr>\n",
       "    <tr>\n",
       "      <th>7</th>\n",
       "      <td>Family</td>\n",
       "      <td>244</td>\n",
       "    </tr>\n",
       "    <tr>\n",
       "      <th>8</th>\n",
       "      <td>Animation</td>\n",
       "      <td>213</td>\n",
       "    </tr>\n",
       "    <tr>\n",
       "      <th>9</th>\n",
       "      <td>Documentary</td>\n",
       "      <td>174</td>\n",
       "    </tr>\n",
       "  </tbody>\n",
       "</table>\n",
       "</div>"
      ],
      "text/plain": [
       "         Genre  Count\n",
       "0        Drama   1781\n",
       "1       Comedy    740\n",
       "2      Romance    601\n",
       "3       Action    579\n",
       "4      Reality    370\n",
       "5     Thriller    313\n",
       "6        Sport    259\n",
       "7       Family    244\n",
       "8    Animation    213\n",
       "9  Documentary    174"
      ]
     },
     "execution_count": 33,
     "metadata": {},
     "output_type": "execute_result"
    }
   ],
   "source": [
    "newdf.rename(columns={'index':\"Genre\", 'genre':'Count'}, inplace=True)\n",
    "newdf"
   ]
  },
  {
   "cell_type": "markdown",
   "metadata": {},
   "source": [
    "## graph of top 10 genre"
   ]
  },
  {
   "cell_type": "code",
   "execution_count": 34,
   "metadata": {},
   "outputs": [
    {
     "data": {
      "text/plain": [
       "<AxesSubplot:xlabel='Count', ylabel='Genre'>"
      ]
     },
     "execution_count": 34,
     "metadata": {},
     "output_type": "execute_result"
    },
    {
     "data": {
      "image/png": "[encoded data removed]",
      "text/plain": [
       "<Figure size 432x288 with 1 Axes>"
      ]
     },
     "metadata": {
      "needs_background": "light"
     },
     "output_type": "display_data"
    }
   ],
   "source": [
    "sns.barplot(y='Genre', data=newdf, x='Count')"
   ]
  },
  {
   "cell_type": "code",
   "execution_count": 35,
   "metadata": {},
   "outputs": [
    {
     "data": {
      "text/plain": [
       "([<matplotlib.patches.Wedge at 0x2950318c4f0>,\n",
       "  <matplotlib.patches.Wedge at 0x2950318caf0>,\n",
       "  <matplotlib.patches.Wedge at 0x295031981c0>,\n",
       "  <matplotlib.patches.Wedge at 0x295031988b0>,\n",
       "  <matplotlib.patches.Wedge at 0x29503198fd0>],\n",
       " [Text(0.3504108571230037, 1.0426946970280044, 'U/A 13+'),\n",
       "  Text(-1.0996738190264908, 0.02678603643119031, 'U'),\n",
       "  Text(-0.38982440824749115, -1.0286092215873304, 'U/A 16+'),\n",
       "  Text(0.7860605838657823, -0.7694860352810736, 'U/A 7+'),\n",
       "  Text(1.0930297762413677, -0.12363619312218431, 'A')],\n",
       " [Text(0.1911331947943656, 0.5687425620152751, '39.7%'),\n",
       "  Text(-0.5998220831053586, 0.014610565326103803, '19.9%'),\n",
       "  Text(-0.21263149540772242, -0.561059575411271, '19.4%'),\n",
       "  Text(0.42876031847224483, -0.41971965560785834, '17.5%'),\n",
       "  Text(0.5961980597680187, -0.06743792352119143, '3.6%')])"
      ]
     },
     "execution_count": 35,
     "metadata": {},
     "output_type": "execute_result"
    },
    {
     "data": {
      "image/png": "[encoded data removed]",
      "text/plain": [
       "<Figure size 432x288 with 1 Axes>"
      ]
     },
     "metadata": {},
     "output_type": "display_data"
    }
   ],
   "source": [
    "a=c['age_rating'].value_counts()\n",
    "a=pd.DataFrame(a)\n",
    "a.reset_index(drop=False,inplace=True)\n",
    "count=a['age_rating']\n",
    "labels=a['index']\n",
    "plt.pie(count,labels=labels,autopct='%1.1f%%')"
   ]
  },
  {
   "cell_type": "code",
   "execution_count": 40,
   "metadata": {},
   "outputs": [],
   "source": [
    "wedf=newdf['type']=='tv'\n",
    "kgf=newdf[wedf]\n",
    "rage=kgf['genre'].value_counts()[:10]\n",
    "rage=pd.DataFrame(rage)\n",
    "rage.reset_index(drop=False,inplace=True)"
   ]
  },
  {
   "cell_type": "markdown",
   "metadata": {},
   "source": [
    "## 8.  #draw a pie chart for the top 10 genres in TV shows"
   ]
  },
  {
   "cell_type": "code",
   "execution_count": 42,
   "metadata": {},
   "outputs": [
    {
     "data": {
      "image/png": "[encoded data removed]",
      "text/plain": [
       "<Figure size 432x288 with 1 Axes>"
      ]
     },
     "metadata": {},
     "output_type": "display_data"
    }
   ],
   "source": [
    "count=rage['genre']\n",
    "labels=rage['index']\n",
    "plt.title(\"top 10 TV genres\")\n",
    "plt.pie(count,labels=labels,autopct='%1.1f%%')\n",
    "plt.show()"
   ]
  },
  {
   "cell_type": "code",
   "execution_count": 43,
   "metadata": {},
   "outputs": [],
   "source": [
    "bgm=newdf[-wedf]\n",
    "ydf=bgm['genre'].value_counts()[:10]\n"
   ]
  },
  {
   "cell_type": "markdown",
   "metadata": {},
   "source": [
    "## 10. #draw a pie chart for the top 10 genres in movies"
   ]
  },
  {
   "cell_type": "code",
   "execution_count": 45,
   "metadata": {},
   "outputs": [
    {
     "data": {
      "image/png": "[encoded data removed]",
      "text/plain": [
       "<Figure size 432x288 with 1 Axes>"
      ]
     },
     "metadata": {},
     "output_type": "display_data"
    }
   ],
   "source": [
    "ydf=pd.DataFrame(ydf)\n",
    "ydf.reset_index(drop=False,inplace=True)\n",
    "count=ydf['genre']\n",
    "labels=ydf['index']\n",
    "plt.title(\"top 10 TV movies\")\n",
    "plt.pie(count,labels=labels,autopct='%1.1f%%')\n",
    "plt.show()"
   ]
  },
  {
   "cell_type": "code",
   "execution_count": 46,
   "metadata": {},
   "outputs": [],
   "source": [
    "top10=newdf['age_rating'].value_counts()[:10]\n",
    "top10=pd.DataFrame(top10)\n",
    "top10.reset_index(drop=False,inplace=True)\n"
   ]
  },
  {
   "cell_type": "markdown",
   "metadata": {},
   "source": [
    "## 6. #graph for the top 10 age ratings."
   ]
  },
  {
   "cell_type": "code",
   "execution_count": 47,
   "metadata": {},
   "outputs": [
    {
     "data": {
      "text/plain": [
       "<AxesSubplot:xlabel='index', ylabel='age_rating'>"
      ]
     },
     "execution_count": 47,
     "metadata": {},
     "output_type": "execute_result"
    },
    {
     "data": {
      "image/png": "[encoded data removed]",
      "text/plain": [
       "<Figure size 432x288 with 1 Axes>"
      ]
     },
     "metadata": {
      "needs_background": "light"
     },
     "output_type": "display_data"
    }
   ],
   "source": [
    "sns.barplot(x=\"index\",y=\"age_rating\",data=top10)"
   ]
  },
  {
   "cell_type": "code",
   "execution_count": 50,
   "metadata": {},
   "outputs": [],
   "source": [
    "year=newdf.groupby(['year'])\n",
    "no_of_movies=year['type'].apply(lambda x:x.str.contains('movie').sum())\n",
    "no_of_tvs=year['type'].apply(lambda x:x.str.contains('tv').sum())\n",
    "no_of_movies=pd.DataFrame(no_of_movies)\n",
    "no_of_tvs=pd.DataFrame(no_of_tvs)\n",
    "no_of_movies.reset_index(drop=False,inplace=True)\n",
    "no_of_tvs.reset_index(drop=False,inplace=True)"
   ]
  },
  {
   "cell_type": "code",
   "execution_count": 51,
   "metadata": {},
   "outputs": [
    {
     "data": {
      "image/png": "[encoded data removed]",
      "text/plain": [
       "<Figure size 432x288 with 1 Axes>"
      ]
     },
     "metadata": {
      "needs_background": "light"
     },
     "output_type": "display_data"
    }
   ],
   "source": [
    "sns.lineplot(x=\"year\",y=\"type\",data=no_of_tvs)\n",
    "sns.lineplot(x=\"year\",y=\"type\",data=no_of_movies)\n",
    "plt.show()"
   ]
  },
  {
   "cell_type": "markdown",
   "metadata": {},
   "source": []
  }
 ],
 "metadata": {
  "kernelspec": {
   "display_name": "Python 3.8.10 64-bit",
   "language": "python",
   "name": "python3"
  },
  "language_info": {
   "codemirror_mode": {
    "name": "ipython",
    "version": 3
   },
   "file_extension": ".py",
   "mimetype": "text/x-python",
   "name": "python",
   "nbconvert_exporter": "python",
   "pygments_lexer": "ipython3",
   "version": "3.8.10"
  },
  "orig_nbformat": 4,
  "vscode": {
   "interpreter": {
    "hash": "9650cb4e16cdd4a8e8e2d128bf38d875813998db22a3c986335f89e0cb4d7bb2"
   }
  }
 },
 "nbformat": 4,
 "nbformat_minor": 2
}
